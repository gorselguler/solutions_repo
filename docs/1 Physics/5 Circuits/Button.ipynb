{
  "nbformat": 4,
  "nbformat_minor": 0,
  "metadata": {
    "colab": {
      "provenance": []
    },
    "kernelspec": {
      "name": "python3",
      "display_name": "Python 3"
    },
    "language_info": {
      "name": "python"
    }
  },
  "cells": [
    {
      "cell_type": "code",
      "execution_count": 2,
      "metadata": {
        "colab": {
          "base_uri": "https://localhost:8080/",
          "height": 132
        },
        "id": "r3czW77ag7eS",
        "outputId": "b1bf7bf8-be16-4079-ee55-9ebede1e835e"
      },
      "outputs": [
        {
          "output_type": "execute_result",
          "data": {
            "text/plain": [
              "<IPython.core.display.HTML object>"
            ],
            "text/html": [
              "\n",
              "    <a href=\"https://drive.google.com/drive/folders/1HImjslU9U_RRR_lJOYFRNqLK1Y6UqLa2?usp=drive_link\" target=\"_blank\" style=\"\n",
              "        display: inline-block;\n",
              "        padding: 15px 30px;\n",
              "        font-size: 20px;\n",
              "        font-weight: bold;\n",
              "        color: white;\n",
              "        background-color: #007bff;\n",
              "        border-radius: 10px;\n",
              "        text-decoration: none;\n",
              "        text-align: center;\n",
              "        margin: 20px 0;\n",
              "    \">\n",
              "        Click Here to Download Circuits Solver Program (Google Drive Folder)\n",
              "    </a>\n",
              "    "
            ]
          },
          "metadata": {},
          "execution_count": 2
        }
      ],
      "source": [
        "from IPython.display import HTML\n",
        "\n",
        "def download_button():\n",
        "    folder_url = \"https://drive.google.com/drive/folders/1HImjslU9U_RRR_lJOYFRNqLK1Y6UqLa2?usp=drive_link\"\n",
        "\n",
        "    html = f'''\n",
        "    <a href=\"{folder_url}\" target=\"_blank\" style=\"\n",
        "        display: inline-block;\n",
        "        padding: 15px 30px;\n",
        "        font-size: 20px;\n",
        "        font-weight: bold;\n",
        "        color: white;\n",
        "        background-color: #007bff;\n",
        "        border-radius: 10px;\n",
        "        text-decoration: none;\n",
        "        text-align: center;\n",
        "        margin: 20px 0;\n",
        "    \">\n",
        "        Click Here to Download Circuits Solver Program (Google Drive Folder)\n",
        "    </a>\n",
        "    '''\n",
        "    return HTML(html)\n",
        "\n",
        "download_button()\n"
      ]
    }
  ]
}